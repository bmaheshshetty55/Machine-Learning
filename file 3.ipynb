{
 "cells": [
  {
   "cell_type": "raw",
   "id": "30e4294a-62fb-4c33-9cc1-c1e94444d78f",
   "metadata": {},
   "source": [
    "Aim: To construct the Decision tree using the training data sets under supervised learning \n",
    "concept.\n",
    "\n",
    "Program: Write a program to demonstrate the working of the decision tree based ID3 \n",
    "algorithm. Use an appropriate data set for building the decision tree and apply this \n",
    "knowledge to classify a new sample."
   ]
  },
  {
   "cell_type": "code",
   "execution_count": 2,
   "id": "f6eabc92-180b-41a5-aec4-c73c5cdf7e65",
   "metadata": {},
   "outputs": [],
   "source": [
    "import pandas as pd\n",
    "import numpy as np\n",
    "from collections import Counter\n",
    "from math import log2\n",
    "import math"
   ]
  },
  {
   "cell_type": "code",
   "execution_count": 4,
   "id": "c6de5261-53cc-464c-82cb-c0cff5b9f471",
   "metadata": {},
   "outputs": [],
   "source": [
    "df = pd.read_csv(\"D:\\Machine  Learning\\id3.csv\")"
   ]
  },
  {
   "cell_type": "code",
   "execution_count": 6,
   "id": "61354211-f0b3-480d-94d4-831e7839a4ca",
   "metadata": {},
   "outputs": [
    {
     "name": "stdout",
     "output_type": "stream",
     "text": [
      "     Outlook Temperature Humidity    Wind Answer\n",
      "0      sunny         hot     high    weak     no\n",
      "1      sunny         hot     high  strong     no\n",
      "2   overcast         hot     high    weak    yes\n",
      "3       rain        mild     high    weak    yes\n",
      "4       rain        cool   normal    weak    yes\n",
      "5       rain        cool   normal  strong     no\n",
      "6   overcast        cool   normal  strong    yes\n",
      "7      sunny        mild     high    weak     no\n",
      "8      sunny        cool   normal    weak    yes\n",
      "9       rain        mild   normal    weak    yes\n",
      "10     sunny        mild   normal  strong    yes\n",
      "11  overcast        mild     high  strong    yes\n",
      "12  overcast         hot   normal    weak    yes\n",
      "13      rain        mild     high  strong     no\n"
     ]
    }
   ],
   "source": [
    "print(df)"
   ]
  },
  {
   "cell_type": "code",
   "execution_count": 8,
   "id": "39973703-f1ec-4e4b-ac7a-c454d8f21df8",
   "metadata": {},
   "outputs": [],
   "source": [
    "# Calculate the entropy of a dataset\n",
    "def entropy(data):\n",
    "    total_count = len(data)\n",
    "    if total_count == 0:\n",
    "        return 0\n",
    "    label_counts = data.iloc[:, -1].value_counts()\n",
    "    entropy_value = 0\n",
    "    for count in label_counts:\n",
    "        probability = count / total_count\n",
    "        entropy_value -= probability * math.log2(probability)\n",
    "    return entropy_value\n",
    "\n",
    "# Calculate the information gain of a feature\n",
    "def information_gain(data, feature):\n",
    "    total_entropy = entropy(data)\n",
    "    values = data[feature].unique()\n",
    "    weighted_entropy = 0\n",
    "    for value in values:\n",
    "        subset = data[data[feature] == value]\n",
    "        subset_entropy = entropy(subset)\n",
    "        weighted_entropy += len(subset) / len(data) * subset_entropy\n",
    "    return total_entropy - weighted_entropy\n",
    "\n",
    "# Choose the best feature to split on\n",
    "def best_feature(data):\n",
    "    features = data.columns[:-1]  # Exclude the label column\n",
    "    gains = {feature: information_gain(data, feature) for feature in features}\n",
    "    return max(gains, key=gains.get)\n",
    "\n",
    "# Build the ID3 d ecision tree\n",
    "def id3(data, depth=0):\n",
    "    # If all examples have the same label, return that label\n",
    "    if len(data.iloc[:, -1].unique()) == 1:\n",
    "        return data.iloc[0, -1]\n",
    "\n",
    "    # If there are no more features to split on, return the most common label\n",
    "    if len(data.columns) == 1:\n",
    "        return data.iloc[:, -1].mode()[0]\n",
    "\n",
    "    # Choose the best feature to split on\n",
    "    best = best_feature(data)\n",
    "    tree = {best: {}}\n",
    "\n",
    "    # Split the dataset and recursively build the tree\n",
    "    for value in data[best].unique():\n",
    "        subset = data[data[best] == value].drop(columns=[best])\n",
    "        subtree = id3(subset, depth + 1)\n",
    "        tree[best][value] = subtree\n",
    "\n",
    "    return tree"
   ]
  },
  {
   "cell_type": "code",
   "execution_count": 10,
   "id": "bf367aca-824a-4e31-95dd-a69ed272fa1f",
   "metadata": {},
   "outputs": [
    {
     "name": "stdout",
     "output_type": "stream",
     "text": [
      "{'Outlook': {'sunny': {'Humidity': {'high': 'no', 'normal': 'yes'}}, 'overcast': 'yes', 'rain': {'Wind': {'weak': 'yes', 'strong': 'no'}}}}\n"
     ]
    }
   ],
   "source": [
    "tree = id3(df)\n",
    "print(tree)"
   ]
  },
  {
   "cell_type": "code",
   "execution_count": null,
   "id": "cdbeacb9-ed57-44ca-9ce9-de26deb31e8c",
   "metadata": {},
   "outputs": [],
   "source": []
  }
 ],
 "metadata": {
  "kernelspec": {
   "display_name": "Python 3 (ipykernel)",
   "language": "python",
   "name": "python3"
  },
  "language_info": {
   "codemirror_mode": {
    "name": "ipython",
    "version": 3
   },
   "file_extension": ".py",
   "mimetype": "text/x-python",
   "name": "python",
   "nbconvert_exporter": "python",
   "pygments_lexer": "ipython3",
   "version": "3.11.5"
  }
 },
 "nbformat": 4,
 "nbformat_minor": 5
}
