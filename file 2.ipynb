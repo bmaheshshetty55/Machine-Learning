{
 "cells": [
  {
   "cell_type": "code",
   "execution_count": 1,
   "metadata": {},
   "outputs": [],
   "source": [
    "import numpy as np\n",
    "import pandas as pd"
   ]
  },
  {
   "cell_type": "code",
   "execution_count": 3,
   "metadata": {},
   "outputs": [
    {
     "name": "stdout",
     "output_type": "stream",
     "text": [
      "   Example    Sky AirTemp Huidity    Wind Water Forecast EnjoySport\n",
      "0        1  sunny    warm  normal  strong  warm     same        yes\n",
      "1        2  sunny    warm    high  strong  warm     same        yes\n",
      "2        3  rainy    cold    high  strong  warm   change         no\n",
      "3        4  sunny    warm    high  strong  cool   change        yes\n"
     ]
    }
   ],
   "source": [
    "data=pd.read_csv(\"D:\\Machine  Learning\\prgm1.csv\")\n",
    "print(data)"
   ]
  },
  {
   "cell_type": "code",
   "execution_count": 5,
   "metadata": {},
   "outputs": [],
   "source": [
    "s=[\"NULL\",\"NULL\",\"NULL\",\"NULL\",\"NULL\",\"NULL\"]\n",
    "g=[[\"?\" for i in range(len(s))]for j in range(len(s))]"
   ]
  },
  {
   "cell_type": "code",
   "execution_count": 11,
   "metadata": {},
   "outputs": [
    {
     "name": "stdout",
     "output_type": "stream",
     "text": [
      "[[1 'sunny' 'warm' 'normal' 'strong' 'warm' 'same']\n",
      " [2 'sunny' 'warm' 'high' 'strong' 'warm' 'same']\n",
      " [3 'rainy' 'cold' 'high' 'strong' 'warm' 'change']\n",
      " [4 'sunny' 'warm' 'high' 'strong' 'cool' 'change']]\n",
      "['yes' 'yes' 'no' 'yes']\n"
     ]
    }
   ],
   "source": [
    "d=np.array(data)[:,:-1]\n",
    "print(d)\n",
    "target=np.array(data)[:,-1]\n",
    "print(target)"
   ]
  },
  {
   "cell_type": "code",
   "execution_count": 9,
   "metadata": {},
   "outputs": [
    {
     "name": "stdout",
     "output_type": "stream",
     "text": [
      "['sunny', 'warm', 'normal', 'strong', 'warm', 'same']\n",
      "s: ['sunny', 'warm', 'normal', 'strong', 'warm', 'same']\n",
      "s: ['sunny', 'warm', '?', 'strong', 'warm', 'same']\n",
      "g: [['sunny', '?', '?', '?', '?', '?'], ['?', 'warm', '?', '?', '?', '?'], ['?', '?', '?', '?', '?', '?'], ['?', '?', '?', '?', '?', '?'], ['?', '?', '?', '?', '?', '?'], ['?', '?', '?', '?', '?', 'same']]\n",
      "s: ['sunny', 'warm', '?', 'strong', '?', '?']\n"
     ]
    }
   ],
   "source": [
    "if target[0]==\"yes\":\n",
    "    for i in range (0,6):\n",
    "        s[i]=d[0,i+1]\n",
    "print(s)\n",
    "for i in range (0,len(target)):\n",
    "    if target[i]==\"yes\":\n",
    "        for x in range (len(s)):\n",
    "            if s[x]!=d[i,x+1]:\n",
    "                s[x]=\"?\"\n",
    "        print(\"s:\",s)\n",
    "    else:\n",
    "        k=-1\n",
    "        for j in range (0,6):\n",
    "            k=k+1\n",
    "            if d[i,j+1]!=s[j]:\n",
    "                g[k][j]=s[j]\n",
    "            else:\n",
    "                g[k]=['?','?','?','?','?','?']\n",
    "\n",
    "           \n",
    "        print(\"g:\",g)"
   ]
  },
  {
   "cell_type": "code",
   "execution_count": null,
   "metadata": {},
   "outputs": [],
   "source": []
  }
 ],
 "metadata": {
  "kernelspec": {
   "display_name": "Python 3 (ipykernel)",
   "language": "python",
   "name": "python3"
  },
  "language_info": {
   "codemirror_mode": {
    "name": "ipython",
    "version": 3
   },
   "file_extension": ".py",
   "mimetype": "text/x-python",
   "name": "python",
   "nbconvert_exporter": "python",
   "pygments_lexer": "ipython3",
   "version": "3.11.5"
  }
 },
 "nbformat": 4,
 "nbformat_minor": 4
}
