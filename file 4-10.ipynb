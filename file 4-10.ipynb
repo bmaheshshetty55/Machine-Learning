{
 "cells": [
  {
   "cell_type": "markdown",
   "id": "ed183ae0-d501-467c-a75a-c1eec34923dd",
   "metadata": {},
   "source": [
    "PRGM 4"
   ]
  },
  {
   "cell_type": "raw",
   "id": "8fb553b4-90cc-4be3-b6e0-e8d6c3eeb40f",
   "metadata": {},
   "source": [
    "Aim: To understand the working principle of Artificial Neural network with feed forward and \n",
    "feed backward principle.\n",
    "\n",
    "Program: Build an Artificial Neural Network by implementing the Backpropagation \n",
    "algorithm and test the same using appropriate data sets."
   ]
  },
  {
   "cell_type": "code",
   "execution_count": 21,
   "id": "53d7d262-d906-43bd-89a3-f7852417557e",
   "metadata": {},
   "outputs": [
    {
     "name": "stdout",
     "output_type": "stream",
     "text": [
      "Epoch 1/5\n",
      "1500/1500 [==============================] - 5s 3ms/step - loss: 0.7120 - accuracy: 0.8224 - val_loss: 0.3817 - val_accuracy: 0.8992\n",
      "Epoch 2/5\n",
      "1500/1500 [==============================] - 4s 3ms/step - loss: 0.3669 - accuracy: 0.8978 - val_loss: 0.3151 - val_accuracy: 0.9114\n",
      "Epoch 3/5\n",
      "1500/1500 [==============================] - 4s 3ms/step - loss: 0.3153 - accuracy: 0.9120 - val_loss: 0.2820 - val_accuracy: 0.9196\n",
      "Epoch 4/5\n",
      "1500/1500 [==============================] - 5s 3ms/step - loss: 0.2844 - accuracy: 0.9204 - val_loss: 0.2589 - val_accuracy: 0.9276\n",
      "Epoch 5/5\n",
      "1500/1500 [==============================] - 4s 3ms/step - loss: 0.2615 - accuracy: 0.9269 - val_loss: 0.2400 - val_accuracy: 0.9335\n",
      "313/313 [==============================] - 1s 2ms/step - loss: 0.2428 - accuracy: 0.9334\n",
      "Test accuracy: 0.9333999752998352\n"
     ]
    }
   ],
   "source": [
    "import tensorflow as tf\n",
    "from tensorflow.keras.optimizers import SGD\n",
    "\n",
    "from tensorflow.keras.datasets import mnist\n",
    "from tensorflow.keras.models import Sequential\n",
    "from tensorflow.keras.layers import Dense, Flatten\n",
    "from tensorflow.keras.utils import to_categorical\n",
    "\n",
    "# Load and preprocess the MNIST dataset\n",
    "(train_images, train_labels), (test_images, test_labels) = mnist.load_data()\n",
    "train_images = train_images / 255.0\n",
    "test_images = test_images / 255.0\n",
    "train_labels = to_categorical(train_labels, 10)\n",
    "test_labels = to_categorical(test_labels, 10)\n",
    "\n",
    "# Build the model\n",
    "model = Sequential([\n",
    "    Flatten(input_shape=(28, 28)),\n",
    "    Dense(128, activation='relu'),\n",
    "    Dense(10, activation='softmax')\n",
    "    \n",
    "])\n",
    "\n",
    "# Compile the model\n",
    "model.compile(optimizer=SGD(learning_rate=0.01),\n",
    "              loss='categorical_crossentropy',\n",
    "              metrics=['accuracy'])\n",
    "\n",
    "# Train the model\n",
    "model.fit(train_images, train_labels, epochs=5, batch_size=32, validation_split=0.2)\n",
    "\n",
    "# Evaluate the model\n",
    "test_loss, test_acc = model.evaluate(test_images, test_labels)\n",
    "print(f\"Test accuracy: {test_acc}\")\n"
   ]
  },
  {
   "cell_type": "markdown",
   "id": "13425dda-6f2c-46ff-8276-2c66a46af560",
   "metadata": {},
   "source": [
    "-----------"
   ]
  },
  {
   "cell_type": "markdown",
   "id": "c98913bc-6983-4f63-a87b-09a91804a49e",
   "metadata": {},
   "source": [
    "PRGM 5"
   ]
  },
  {
   "cell_type": "raw",
   "id": "0a91065a-473c-4826-8a4a-896f69f96668",
   "metadata": {},
   "source": [
    "Aim: Demonstrate the text classifier using Naïve bayes classifier algorithm.\n",
    "\n",
    "Program: Write a program to implement the naive Bayesian classifier for a sample training \n",
    "data set stored as a .CSV file. Compute the accuracy of the classifier, considering few test \n",
    "data sets."
   ]
  },
  {
   "cell_type": "code",
   "execution_count": 2,
   "id": "424f4b77-594e-4253-842c-1cd28d7f1391",
   "metadata": {},
   "outputs": [],
   "source": [
    "from sklearn.feature_extraction.text import CountVectorizer\n",
    "from sklearn.naive_bayes import MultinomialNB\n",
    "from sklearn.metrics import accuracy_score"
   ]
  },
  {
   "cell_type": "code",
   "execution_count": 4,
   "id": "eea27561-b5ca-4557-867a-17056c1df537",
   "metadata": {},
   "outputs": [],
   "source": [
    "texts = [\n",
    "    \"free money\",\n",
    "    \"hello friend\",\n",
    "    \"money lottery\",\n",
    "    \"friend hello\"\n",
    "]"
   ]
  },
  {
   "cell_type": "code",
   "execution_count": 6,
   "id": "a22caec8-bcf3-4d61-9874-b696a0ed8440",
   "metadata": {},
   "outputs": [],
   "source": [
    "labels = [1, 0, 1, 0]\n",
    "count_vect = CountVectorizer()"
   ]
  },
  {
   "cell_type": "code",
   "execution_count": 8,
   "id": "885920d0-c112-4ed4-9445-e8e1b3fed96d",
   "metadata": {
    "scrolled": true
   },
   "outputs": [
    {
     "name": "stdout",
     "output_type": "stream",
     "text": [
      "  (0, 0)\t1\n",
      "  (0, 4)\t1\n",
      "  (1, 2)\t1\n",
      "  (1, 1)\t1\n",
      "  (2, 4)\t1\n",
      "  (2, 3)\t1\n",
      "  (3, 2)\t1\n",
      "  (3, 1)\t1\n",
      "['free' 'friend' 'hello' 'lottery' 'money']\n"
     ]
    }
   ],
   "source": [
    "X_counts = count_vect.fit_transform(texts)\n",
    "print(X_counts)\n",
    "print(count_vect.get_feature_names_out())\n",
    "clf = MultinomialNB()\n",
    "clf.fit(X_counts, labels)\n",
    "test_texts = [\n",
    "    \"money lottery\",\n",
    "    \"hello dear\"\n",
    "]"
   ]
  },
  {
   "cell_type": "code",
   "execution_count": 10,
   "id": "5ba08567-ec6a-4c90-be5a-1ba7041768f6",
   "metadata": {},
   "outputs": [
    {
     "name": "stdout",
     "output_type": "stream",
     "text": [
      "[1 0]\n",
      "Accuracy: 1.00\n"
     ]
    }
   ],
   "source": [
    "X_test_counts = count_vect.transform(test_texts)\n",
    "predicted = clf.predict(X_test_counts)\n",
    "print(predicted) \n",
    "accuracy = accuracy_score(labels, clf.predict(X_counts))\n",
    "print(f'Accuracy: {accuracy:.2f}')"
   ]
  },
  {
   "cell_type": "markdown",
   "id": "92d26d01-e397-4a4c-acab-f300f31cad21",
   "metadata": {},
   "source": [
    "------------------------------------------------------------------------------------------------------------------------------"
   ]
  },
  {
   "cell_type": "markdown",
   "id": "a92e0f55-25a4-4e61-bc86-27568009f912",
   "metadata": {},
   "source": [
    "PRGM 6"
   ]
  },
  {
   "cell_type": "raw",
   "id": "40c3c124-5881-411b-ab3d-cdf21487f8e7",
   "metadata": {},
   "source": [
    "Aim: Demonstrate and Analyse the results sets obtained from Bayesian belief network \n",
    "Principle.\n",
    "\n",
    "Program:- Write a program to construct a Bayesian network considering medical data. Use \n",
    "this model to demonstrate the diagnosis of heart patients using standard Heart Disease \n",
    "Data Set. You can use Python ML library classes/API."
   ]
  },
  {
   "cell_type": "code",
   "execution_count": 2,
   "id": "22fec327-08b5-4646-81fa-1e8fa9209315",
   "metadata": {},
   "outputs": [
    {
     "name": "stdout",
     "output_type": "stream",
     "text": [
      "Collecting pgmpy\n",
      "  Using cached pgmpy-0.1.25-py3-none-any.whl.metadata (6.4 kB)\n",
      "Requirement already satisfied: networkx in c:\\users\\asus\\anaconda3\\lib\\site-packages (from pgmpy) (3.3)\n",
      "Requirement already satisfied: numpy in c:\\users\\asus\\anaconda3\\lib\\site-packages (from pgmpy) (1.26.4)\n",
      "Requirement already satisfied: scipy in c:\\users\\asus\\anaconda3\\lib\\site-packages (from pgmpy) (1.13.1)\n",
      "Requirement already satisfied: scikit-learn in c:\\users\\asus\\anaconda3\\lib\\site-packages (from pgmpy) (1.4.2)\n",
      "Requirement already satisfied: pandas in c:\\users\\asus\\anaconda3\\lib\\site-packages (from pgmpy) (2.2.2)\n",
      "Requirement already satisfied: pyparsing in c:\\users\\asus\\anaconda3\\lib\\site-packages (from pgmpy) (3.0.9)\n",
      "Collecting torch (from pgmpy)\n",
      "  Using cached torch-2.3.1-cp311-cp311-win_amd64.whl.metadata (26 kB)\n",
      "Requirement already satisfied: statsmodels in c:\\users\\asus\\anaconda3\\lib\\site-packages (from pgmpy) (0.14.2)\n",
      "Requirement already satisfied: tqdm in c:\\users\\asus\\anaconda3\\lib\\site-packages (from pgmpy) (4.66.4)\n",
      "Requirement already satisfied: joblib in c:\\users\\asus\\anaconda3\\lib\\site-packages (from pgmpy) (1.4.2)\n",
      "Requirement already satisfied: opt-einsum in c:\\users\\asus\\anaconda3\\lib\\site-packages (from pgmpy) (3.3.0)\n",
      "Requirement already satisfied: python-dateutil>=2.8.2 in c:\\users\\asus\\appdata\\roaming\\python\\python311\\site-packages (from pandas->pgmpy) (2.9.0.post0)\n",
      "Requirement already satisfied: pytz>=2020.1 in c:\\users\\asus\\anaconda3\\lib\\site-packages (from pandas->pgmpy) (2024.1)\n",
      "Requirement already satisfied: tzdata>=2022.7 in c:\\users\\asus\\anaconda3\\lib\\site-packages (from pandas->pgmpy) (2023.3)\n",
      "Requirement already satisfied: threadpoolctl>=2.0.0 in c:\\users\\asus\\anaconda3\\lib\\site-packages (from scikit-learn->pgmpy) (3.5.0)\n",
      "Requirement already satisfied: patsy>=0.5.6 in c:\\users\\asus\\anaconda3\\lib\\site-packages (from statsmodels->pgmpy) (0.5.6)\n",
      "Requirement already satisfied: packaging>=21.3 in c:\\users\\asus\\appdata\\roaming\\python\\python311\\site-packages (from statsmodels->pgmpy) (24.1)\n",
      "Requirement already satisfied: filelock in c:\\users\\asus\\anaconda3\\lib\\site-packages (from torch->pgmpy) (3.13.1)\n",
      "Requirement already satisfied: typing-extensions>=4.8.0 in c:\\users\\asus\\appdata\\roaming\\python\\python311\\site-packages (from torch->pgmpy) (4.12.2)\n",
      "Requirement already satisfied: sympy in c:\\users\\asus\\anaconda3\\lib\\site-packages (from torch->pgmpy) (1.12)\n",
      "Requirement already satisfied: jinja2 in c:\\users\\asus\\anaconda3\\lib\\site-packages (from torch->pgmpy) (3.1.4)\n",
      "Requirement already satisfied: fsspec in c:\\users\\asus\\anaconda3\\lib\\site-packages (from torch->pgmpy) (2024.3.1)\n",
      "Collecting mkl<=2021.4.0,>=2021.1.1 (from torch->pgmpy)\n",
      "  Using cached mkl-2021.4.0-py2.py3-none-win_amd64.whl.metadata (1.4 kB)\n",
      "Requirement already satisfied: colorama in c:\\users\\asus\\appdata\\roaming\\python\\python311\\site-packages (from tqdm->pgmpy) (0.4.6)\n",
      "Collecting intel-openmp==2021.* (from mkl<=2021.4.0,>=2021.1.1->torch->pgmpy)\n",
      "  Using cached intel_openmp-2021.4.0-py2.py3-none-win_amd64.whl.metadata (1.2 kB)\n",
      "Collecting tbb==2021.* (from mkl<=2021.4.0,>=2021.1.1->torch->pgmpy)\n",
      "  Using cached tbb-2021.13.0-py3-none-win_amd64.whl.metadata (1.1 kB)\n",
      "Requirement already satisfied: six in c:\\users\\asus\\appdata\\roaming\\python\\python311\\site-packages (from patsy>=0.5.6->statsmodels->pgmpy) (1.16.0)\n",
      "Requirement already satisfied: MarkupSafe>=2.0 in c:\\users\\asus\\anaconda3\\lib\\site-packages (from jinja2->torch->pgmpy) (2.1.3)\n",
      "Requirement already satisfied: mpmath>=0.19 in c:\\users\\asus\\anaconda3\\lib\\site-packages (from sympy->torch->pgmpy) (1.3.0)\n",
      "Using cached pgmpy-0.1.25-py3-none-any.whl (2.0 MB)\n",
      "Using cached torch-2.3.1-cp311-cp311-win_amd64.whl (159.8 MB)\n",
      "Using cached mkl-2021.4.0-py2.py3-none-win_amd64.whl (228.5 MB)\n",
      "Using cached intel_openmp-2021.4.0-py2.py3-none-win_amd64.whl (3.5 MB)\n",
      "Using cached tbb-2021.13.0-py3-none-win_amd64.whl (286 kB)\n",
      "Installing collected packages: tbb, intel-openmp, mkl, torch, pgmpy\n",
      "Successfully installed intel-openmp-2021.4.0 mkl-2021.4.0 pgmpy-0.1.25 tbb-2021.13.0 torch-2.3.1\n"
     ]
    }
   ],
   "source": [
    "#!pip install pgmpy"
   ]
  },
  {
   "cell_type": "code",
   "execution_count": 1,
   "id": "75d6dc97-7c08-4646-ac34-735c69da6420",
   "metadata": {},
   "outputs": [
    {
     "name": "stderr",
     "output_type": "stream",
     "text": [
      "WARNING:pgmpy:BayesianModel has been renamed to BayesianNetwork. Please use BayesianNetwork class, BayesianModel will be removed in future.\n"
     ]
    },
    {
     "name": "stdout",
     "output_type": "stream",
     "text": [
      "    age  Gender  Family  diet  Lifestyle  cholestrol  heartdisease\n",
      "0    20       0       1     1          3           0             1\n",
      "1    10       1       1     1          3           0             1\n",
      "2    30       0       0     0          2           1             1\n",
      "3    40       0       1     1          3           2             0\n",
      "4    30       1       1     0          0           2             0\n",
      "5    20       0       1     1          1           0             1\n",
      "6    40       0       1     0          2           0             1\n",
      "7    10       0       1     1          3           0             1\n",
      "8    30       1       1     0          0           2             0\n",
      "9    10       1       0     0          0           2             1\n",
      "10   40       1       0     1          2           0             1\n",
      "11   40       0       1     1          3           2             0\n",
      "12   20       1       0     0          0           0             0\n",
      "13   20       0       1     1          1           0             1\n",
      "14   30       1       1     0          0           1             0\n",
      "15   10       0       1     0          0           2             1\n",
      "16   10       1       0     1          2           1             1\n",
      "17   30       1       1     1          0           1             0\n",
      "18   44       0       1     1          3           2             0\n",
      "For Gender enter Male:0, Female:1\n",
      "For Family History enter Yes:1, No:0\n",
      "For Diet enter High:0, Medium:1\n",
      "for LifeStyle enter Athlete:0, Active:1, Moderate:2, Sedentary:3\n",
      "for Cholesterol enter High:0, BorderLine:1, Normal:2\n"
     ]
    },
    {
     "name": "stdin",
     "output_type": "stream",
     "text": [
      "Enter Age:  30\n",
      "Enter Gender:  1\n",
      "Enter Family History:  0\n",
      "Enter Diet:  1\n",
      "Enter Lifestyle:  0\n",
      "Enter Cholestrol:  1\n"
     ]
    },
    {
     "name": "stderr",
     "output_type": "stream",
     "text": [
      "WARNING:pgmpy:BayesianModel has been renamed to BayesianNetwork. Please use BayesianNetwork class, BayesianModel will be removed in future.\n",
      "WARNING:pgmpy:BayesianModel has been renamed to BayesianNetwork. Please use BayesianNetwork class, BayesianModel will be removed in future.\n"
     ]
    },
    {
     "name": "stdout",
     "output_type": "stream",
     "text": [
      "+-----------------+---------------------+\n",
      "| heartdisease    |   phi(heartdisease) |\n",
      "+=================+=====================+\n",
      "| heartdisease(0) |              0.0000 |\n",
      "+-----------------+---------------------+\n",
      "| heartdisease(1) |              1.0000 |\n",
      "+-----------------+---------------------+\n"
     ]
    }
   ],
   "source": [
    "# !pip install pgmpy\n",
    "\n",
    "import pandas as pd\n",
    "from pgmpy.estimators import MaximumLikelihoodEstimator\n",
    "from pgmpy.models import BayesianModel\n",
    "from pgmpy.inference import VariableElimination\n",
    "\n",
    "data = pd.read_csv(\"D:\\Machine  Learning\\Heart_ds_Bayesian_Belief_Network.csv\")\n",
    "heart_disease = pd.DataFrame(data)\n",
    "print(heart_disease)\n",
    "\n",
    "model = BayesianModel([\n",
    "    ('age', 'Lifestyle'),\n",
    "    ('Gender', 'Lifestyle'),\n",
    "    ('Family', 'heartdisease'),\n",
    "    ('diet', 'cholestrol'),\n",
    "    ('Lifestyle', 'diet'),\n",
    "    ('cholestrol', 'heartdisease'),\n",
    "    ('diet', 'cholestrol') \n",
    "])\n",
    "\n",
    "model.fit(heart_disease, estimator=MaximumLikelihoodEstimator)\n",
    "\n",
    "HeartDisease_infer = VariableElimination(model)\n",
    "\n",
    "print('For Gender enter Male:0, Female:1')\n",
    "print('For Family History enter Yes:1, No:0')\n",
    "print('For Diet enter High:0, Medium:1')\n",
    "print('for LifeStyle enter Athlete:0, Active:1, Moderate:2, Sedentary:3')\n",
    "print('for Cholesterol enter High:0, BorderLine:1, Normal:2') \n",
    "\n",
    "q = HeartDisease_infer.query(variables=['heartdisease'], evidence={\n",
    "    'age': int(input('Enter Age: ')),\n",
    "    'Gender': int(input('Enter Gender: ')), \n",
    "    'Family': int(input('Enter Family History: ')),\n",
    "    'diet': int(input('Enter Diet: ')),\n",
    "    'Lifestyle': int(input('Enter Lifestyle: ')),\n",
    "    'cholestrol': int(input('Enter Cholestrol: '))\n",
    "})\n",
    "\n",
    "print(q)"
   ]
  },
  {
   "cell_type": "markdown",
   "id": "22552640-4a37-4e9e-9493-42e5f3404fa9",
   "metadata": {},
   "source": [
    "---------------"
   ]
  },
  {
   "cell_type": "markdown",
   "id": "e21fc58b-c314-4951-9741-539b107d50c5",
   "metadata": {},
   "source": [
    "PRGM 7"
   ]
  },
  {
   "cell_type": "raw",
   "id": "c86e0fd8-cd4d-4379-86a3-fec1a8dec445",
   "metadata": {},
   "source": [
    "Aim: Implement and demonstrate the working model of K-means clustering algorithm with \n",
    "Expectation Maximization Concept.\n",
    "\n",
    "Program: Apply EM algorithm to cluster a set of data stored in a .CSV file. Use the same data \n",
    "set for clustering using k-Means algorithm. Compare the results of these two algorithms \n",
    "and comment on the quality of clustering. You can add Python ML library classes/API in \n",
    "the program."
   ]
  },
  {
   "cell_type": "code",
   "execution_count": 22,
   "id": "fbf39a95-e548-4011-9f11-1fd083ac7c08",
   "metadata": {},
   "outputs": [],
   "source": [
    "import numpy as np\n",
    "import pandas as pd \n",
    "import matplotlib.pyplot as plt \n",
    "from sklearn.cluster import KMeans\n",
    "from sklearn.metrics import silhouette_score\n",
    "from sklearn.mixture import GaussianMixture"
   ]
  },
  {
   "cell_type": "code",
   "execution_count": 24,
   "id": "ec3521bd-f8b0-479f-9db4-9fadf52f8d36",
   "metadata": {},
   "outputs": [],
   "source": [
    "data_points = np.array([1,4,2,6,8,3]).reshape(-1,1)\n",
    "num_clusters = 2"
   ]
  },
  {
   "cell_type": "code",
   "execution_count": 26,
   "id": "db154fa3-ec52-4346-86a2-20d2537d5900",
   "metadata": {},
   "outputs": [
    {
     "name": "stdout",
     "output_type": "stream",
     "text": [
      "[0 0 0 1 1 0]\n"
     ]
    },
    {
     "name": "stderr",
     "output_type": "stream",
     "text": [
      "C:\\Users\\asus\\anaconda3\\Lib\\site-packages\\sklearn\\cluster\\_kmeans.py:1446: UserWarning: KMeans is known to have a memory leak on Windows with MKL, when there are less chunks than available threads. You can avoid it by setting the environment variable OMP_NUM_THREADS=1.\n",
      "  warnings.warn(\n"
     ]
    }
   ],
   "source": [
    "kmeans = KMeans(n_clusters=num_clusters,random_state=42)\n",
    "kmean_labels = kmeans.fit_predict(data_points)\n",
    "print(kmean_labels)"
   ]
  },
  {
   "cell_type": "code",
   "execution_count": 28,
   "id": "8bba7817-abdb-4cfa-94bd-3fcb767cbc60",
   "metadata": {},
   "outputs": [
    {
     "name": "stdout",
     "output_type": "stream",
     "text": [
      "Cluster Center : [[2.5]\n",
      " [7. ]]\n"
     ]
    }
   ],
   "source": [
    "cluster_centers = kmeans.cluster_centers_\n",
    "print(f'Cluster Center : {cluster_centers}')"
   ]
  },
  {
   "cell_type": "code",
   "execution_count": 30,
   "id": "b31d734f-8026-4a9c-8bf9-4a09f846ee9d",
   "metadata": {},
   "outputs": [
    {
     "name": "stdout",
     "output_type": "stream",
     "text": [
      "Silhouette Score for k-means : 0.5774891774891775\n"
     ]
    }
   ],
   "source": [
    "data = pd.DataFrame(data_points, columns= ['Values'])\n",
    "data['kmeans_cluster'] = kmean_labels\n",
    "silhouette_kmeans = silhouette_score(data_points,kmean_labels)\n",
    "print(f'Silhouette Score for k-means : {silhouette_kmeans}')"
   ]
  },
  {
   "cell_type": "code",
   "execution_count": 32,
   "id": "a30fda58-62da-4ddf-bc36-f3e74ccfb319",
   "metadata": {},
   "outputs": [
    {
     "data": {
      "image/png": "[encoded data removed]",
      "text/plain": [
       "<Figure size 1000x600 with 2 Axes>"
      ]
     },
     "metadata": {},
     "output_type": "display_data"
    }
   ],
   "source": [
    "plt.figure(figsize=(10,6))\n",
    "plt.scatter(data_points,np.zeros_like(data_points),c = kmean_labels,cmap='viridis', marker= '*')\n",
    "plt.title('KMeans Clustering') \n",
    "plt.xlabel('Vaues')\n",
    "plt.yticks([])\n",
    "plt.colorbar(label = 'Cluster')\n",
    "plt.show()"
   ]
  },
  {
   "cell_type": "code",
   "execution_count": 34,
   "id": "e052163e-3445-4329-91d1-e32c7d3874a8",
   "metadata": {},
   "outputs": [
    {
     "name": "stdout",
     "output_type": "stream",
     "text": [
      "[0 0 0 1 1 0]\n"
     ]
    },
    {
     "name": "stderr",
     "output_type": "stream",
     "text": [
      "C:\\Users\\asus\\anaconda3\\Lib\\site-packages\\sklearn\\cluster\\_kmeans.py:1446: UserWarning: KMeans is known to have a memory leak on Windows with MKL, when there are less chunks than available threads. You can avoid it by setting the environment variable OMP_NUM_THREADS=1.\n",
      "  warnings.warn(\n"
     ]
    }
   ],
   "source": [
    "gmm = GaussianMixture(n_components=num_clusters,random_state=42)\n",
    "gmm_labels = gmm.fit_predict(data_points)\n",
    "print(gmm_labels)"
   ]
  },
  {
   "cell_type": "code",
   "execution_count": 36,
   "id": "9ca9aa72-36fc-4aeb-bb1c-07e21103df93",
   "metadata": {},
   "outputs": [
    {
     "name": "stdout",
     "output_type": "stream",
     "text": [
      "Silhouette Score for GMM : 0.5774891774891775\n"
     ]
    }
   ],
   "source": [
    "datas = pd.DataFrame(data_points, columns= ['Values'])\n",
    "datas['gmm_cluster'] = gmm_labels\n",
    "silhouette_gmm = silhouette_score(data_points,gmm_labels)\n",
    "print(f'Silhouette Score for GMM : {silhouette_gmm}')"
   ]
  },
  {
   "cell_type": "code",
   "execution_count": 38,
   "id": "838399be-ca6e-4042-8d2b-2f776d8a42ed",
   "metadata": {},
   "outputs": [
    {
     "name": "stdout",
     "output_type": "stream",
     "text": [
      "Cluster Center : [[2.51608809]\n",
      " [6.98418975]]\n"
     ]
    }
   ],
   "source": [
    "clusters_centers = gmm.means_\n",
    "print(f'Cluster Center : {clusters_centers}')"
   ]
  },
  {
   "cell_type": "code",
   "execution_count": 40,
   "id": "1ca16175-fb82-4974-bdd2-f2d1fee46e03",
   "metadata": {},
   "outputs": [
    {
     "data": {
      "image/png": "[encoded data removed]",
      "text/plain": [
       "<Figure size 1000x600 with 2 Axes>"
      ]
     },
     "metadata": {},
     "output_type": "display_data"
    }
   ],
   "source": [
    "plt.figure(figsize=(10,6))\n",
    "plt.scatter(data_points,np.zeros_like(data_points),c = gmm_labels,cmap='viridis', marker= '.',edgecolors='k',label = 'Data Points')\n",
    "plt.scatter(clusters_centers,np.zeros_like(clusters_centers))\n",
    "plt.title('GMM Clustering')\n",
    "plt.xlabel('Vaues')\n",
    "plt.yticks([])\n",
    "plt.legend()\n",
    "plt.colorbar(label = 'Cluster')\n",
    "plt.show()"
   ]
  },
  {
   "cell_type": "code",
   "execution_count": 2,
   "id": "266af753-5c06-4594-88eb-6459f4927f15",
   "metadata": {},
   "outputs": [
    {
     "name": "stderr",
     "output_type": "stream",
     "text": [
      "C:\\Users\\asus\\anaconda3\\Lib\\site-packages\\sklearn\\cluster\\_kmeans.py:1446: UserWarning: KMeans is known to have a memory leak on Windows with MKL, when there are less chunks than available threads. You can avoid it by setting the environment variable OMP_NUM_THREADS=3.\n",
      "  warnings.warn(\n"
     ]
    },
    {
     "name": "stdout",
     "output_type": "stream",
     "text": [
      "k-Means Labels: [2 0 2 2 0 0 2 2 0 2 0 0 2 0 0 0 0 2 0 0 2 0 2 0 0 2 0 2 0 0 0 2 2 0 2 0 2\n",
      " 0 0 2 2 2 0 0 0 0 0 2 2 0 2 0 0 2 2 2 0 0 2 2 0 0 0 0 2 2 2 2 2 0 2 2 2 2\n",
      " 0 2 2 0 2 0 0 2 2 0 0 0 2 2 0 2 2 2 0 0 0 0 2 2 2 0 0 0 0 0 0 2 2 2 2 2 0\n",
      " 2 2 1 0 2 2 0 2 2 2 0 2 0 2 2 0 0 2 0 0 2 0 2 0 2 0 0 2 0 2 2 0 2 2 2 0 0\n",
      " 2 2 2 2 0 2 2 0 2 2 0 2 0 2 2 0 2 2 2 2 0 0 0 0 2 2 2 2 2 2 0 1 2 0 0 2 0\n",
      " 2 2 2 0 0 0 2 2 0 2 2 0 2 2 0 2 2 2 2 0 0 2 2 2 1 2 2 2 2 0 2 0 0 0 2 2 0\n",
      " 2 0 0 2 2 0 0 2 0 2 2 0 2 2 0 2 0 2 0 0 2 2 0 0 0 0 2 2 0 2 2 2 0 0 2 0 2\n",
      " 2 0 2 0 0 0 0 2 0 0 2 2 0 2 2 0 2 2 0 2 0 2 2 2 0 2 0 0 2 2 0 0 0 0 2 2 0\n",
      " 2 2 2 2 1 1 1 1 1 1 1 1 1 1 1 1 1 1 1 1 1 1 1 1 1 1 1 1 1 1 1 1 1 1 1 1 1\n",
      " 1 1 1 1 1 1 1 1 1 1 1 1 1 1 1 1 1 1 1 1 1 1 1 1 1 1 1 1 1 1 1 1 1 1 1 1 1\n",
      " 1 1 1 1 1 1 1 1 1 1 1 1 1 1 1 1 1 1 1 1 1 1 1 1 1 1 1 1 1 1 1 1 1 1 1 1 1\n",
      " 1 1 1 1 1 1 1 1 1 1 1 1 1 1 1 1 1 1 1 1 1 1 1 1 1 1 1 1 1 1 1 1 1 1 1 1 1\n",
      " 1 1 1 1 1 1 1 1 1 1 1 1 1 1 1 1 1 1 1 1 1 1 1 1 1 1 1 1 1 1 1 1 1 1 1 1 1\n",
      " 1 1 1 1 1 1 1 1 1 1 1 1 1 1 1 1 1 1 1 1 1 1 1 1 1 1 1 1 1 1 1 1 1 1 1 1 1\n",
      " 1 1 1 1 1 1 1 1 1 1 1 1 1 1 1 1 1 1 1 1 1 1 1 1 1 1 1 1 1 1 1 1 1 1 1 1 1\n",
      " 1 1 1 1 1 1 1 1 1 1 1 1 1 1 1 1 1 1 1 1 1 1 1 1 1 1 1 1 1 1 1 1 1 1 1 1 1\n",
      " 1 1 1 1 1 1 1 1]\n",
      "k-Means Cluster Centers: [[11.39584414]\n",
      " [59.79579688]\n",
      " [26.60346641]]\n",
      "Silhouette Score for k-Means: 0.6980\n"
     ]
    },
    {
     "data": {
      "image/png": "[encoded data removed]",
      "text/plain": [
       "<Figure size 1000x600 with 2 Axes>"
      ]
     },
     "metadata": {},
     "output_type": "display_data"
    },
    {
     "name": "stderr",
     "output_type": "stream",
     "text": [
      "C:\\Users\\asus\\anaconda3\\Lib\\site-packages\\sklearn\\cluster\\_kmeans.py:1446: UserWarning: KMeans is known to have a memory leak on Windows with MKL, when there are less chunks than available threads. You can avoid it by setting the environment variable OMP_NUM_THREADS=3.\n",
      "  warnings.warn(\n"
     ]
    },
    {
     "name": "stdout",
     "output_type": "stream",
     "text": [
      "Silhouette Score for GMM: 0.6967\n",
      "GMM Cluster Centers: [[12.88543979]\n",
      " [59.81240478]\n",
      " [25.13938747]]\n"
     ]
    },
    {
     "data": {
      "image/png": "[encoded data removed]",
      "text/plain": [
       "<Figure size 1000x600 with 2 Axes>"
      ]
     },
     "metadata": {},
     "output_type": "display_data"
    }
   ],
   "source": [
    "import numpy as np\n",
    "import pandas as pd\n",
    "import matplotlib.pyplot as plt\n",
    "from sklearn.cluster import KMeans\n",
    "from sklearn.mixture import GaussianMixture\n",
    "from sklearn.metrics import silhouette_score\n",
    "\n",
    "np.random.seed(42)\n",
    "\n",
    "# Define new parameters for two normal distributions\n",
    "mean1, std1, size1 = 20, 10, 300\n",
    "mean2, std2, size2 = 60, 5, 300\n",
    "\n",
    "# Generate data points for two distributions\n",
    "data_points_set1 = np.random.normal(loc=mean1, scale=std1, size=size1)\n",
    "data_points_set2 = np.random.normal(loc=mean2, scale=std2, size=size2)\n",
    "\n",
    "data_points = np.concatenate([data_points_set1, data_points_set2]).reshape(-1, 1)\n",
    "\n",
    "num_clusters = 3\n",
    "\n",
    "# k-Means Clustering\n",
    "kmeans = KMeans(n_clusters=num_clusters, random_state=42)\n",
    "kmeans_labels = kmeans.fit_predict(data_points)\n",
    "print(f'k-Means Labels: {kmeans_labels}')\n",
    "cluster_centers = kmeans.cluster_centers_\n",
    "print(f'k-Means Cluster Centers: {cluster_centers}')\n",
    "\n",
    "data = pd.DataFrame(data_points, columns=['Value'])\n",
    "data['kmeans_cluster'] = kmeans_labels\n",
    "\n",
    "silhouette_kmeans = silhouette_score(data_points, kmeans_labels)\n",
    "print(f'Silhouette Score for k-Means: {silhouette_kmeans:.4f}')\n",
    "\n",
    "plt.figure(figsize=(10, 6))\n",
    "plt.scatter(data_points, np.zeros_like(data_points), c=kmeans_labels, cmap='viridis', marker='*')\n",
    "plt.title('k-Means Clustering')\n",
    "plt.xlabel('Value')\n",
    "plt.yticks([])\n",
    "plt.colorbar(label='Cluster')\n",
    "plt.show()\n",
    "\n",
    "# Gaussian Mixture Model (GMM) Clustering\n",
    "gmm = GaussianMixture(n_components=num_clusters, random_state=42)\n",
    "gmm_labels = gmm.fit_predict(data_points)\n",
    "\n",
    "data['gmm_cluster'] = gmm_labels\n",
    "\n",
    "silhouette_gmm = silhouette_score(data_points, gmm_labels)\n",
    "print(f'Silhouette Score for GMM: {silhouette_gmm:.4f}')\n",
    "\n",
    "cluster_centers = gmm.means_\n",
    "print(f'GMM Cluster Centers: {cluster_centers}')\n",
    "\n",
    "plt.figure(figsize=(10, 6))\n",
    "plt.scatter(data_points, np.zeros_like(data_points), c=gmm_labels, cmap='viridis', marker='o', edgecolor='k', label='Data Points')\n",
    "plt.scatter(cluster_centers, np.zeros_like(cluster_centers), c='red', marker='x', s=100, label='Centroids')\n",
    "plt.title('GMM Clustering')\n",
    "plt.xlabel('Value')\n",
    "plt.yticks([]) \n",
    "plt.legend()\n",
    "plt.colorbar(label='Cluster')\n",
    "plt.show()"
   ]
  },
  {
   "cell_type": "markdown",
   "id": "d52ec85f-03ca-4ed2-b9d5-036e466d9ad4",
   "metadata": {},
   "source": [
    "-----------------------------"
   ]
  },
  {
   "cell_type": "markdown",
   "id": "1aab60f9-03cd-400f-9506-c6b6eebb8474",
   "metadata": {},
   "source": [
    "PRGM 8"
   ]
  },
  {
   "cell_type": "raw",
   "id": "4a206a6a-4dbe-48d3-a0fe-4bb0d905d31c",
   "metadata": {},
   "source": [
    "Aim: Demonstrate and analyse the results of classification based on KNN Algorithm.\n",
    "\n",
    "Program: Write a program to implement k-Nearest Neighbour algorithm to classify the iris \n",
    "data set. Print both correct and wrong predictions. Java/Python ML library classes can be \n",
    "used for this problem."
   ]
  },
  {
   "cell_type": "code",
   "execution_count": 46,
   "id": "62dd9395-c214-462e-8d36-5672c72544f7",
   "metadata": {},
   "outputs": [],
   "source": [
    "from sklearn.datasets import load_iris\n",
    "from sklearn.model_selection import train_test_split\n",
    "from sklearn.neighbors import KNeighborsClassifier\n",
    "from sklearn.metrics import accuracy_score\n"
   ]
  },
  {
   "cell_type": "code",
   "execution_count": 48,
   "id": "c16ed690-3be7-46d1-bcfe-16dcaa80a6da",
   "metadata": {},
   "outputs": [],
   "source": [
    "iris = load_iris()\n",
    "X, y = iris.data, iris.target\n"
   ]
  },
  {
   "cell_type": "code",
   "execution_count": 50,
   "id": "c1407b33-543f-4bee-95b7-fa8e7333a4da",
   "metadata": {},
   "outputs": [],
   "source": [
    "X_train, X_test, y_train, y_test = train_test_split(X, y, test_size=0.3, random_state=42)\n",
    "knn = KNeighborsClassifier(n_neighbors=3)\n",
    "knn.fit(X_train, y_train)\n",
    "y_pred = knn.predict(X_test)\n"
   ]
  },
  {
   "cell_type": "code",
   "execution_count": 52,
   "id": "34010fab-72d1-4763-91b7-3cd96df64e56",
   "metadata": {},
   "outputs": [
    {
     "name": "stdout",
     "output_type": "stream",
     "text": [
      "Accuracy: 1.00\n"
     ]
    }
   ],
   "source": [
    "accuracy = accuracy_score(y_test, y_pred)\n",
    "print(f\"Accuracy: {accuracy:.2f}\")"
   ]
  },
  {
   "cell_type": "code",
   "execution_count": 54,
   "id": "ca9ca5c8-defb-44a7-81fc-c256edbaf493",
   "metadata": {},
   "outputs": [
    {
     "name": "stdout",
     "output_type": "stream",
     "text": [
      "\n",
      "Predictions (Format: True Label -> Predicted Label):\n",
      "\n",
      "1 -> 1 : Correct (Sample: [6.1 2.8 4.7 1.2])\n",
      "0 -> 0 : Correct (Sample: [5.7 3.8 1.7 0.3])\n",
      "2 -> 2 : Correct (Sample: [7.7 2.6 6.9 2.3])\n",
      "1 -> 1 : Correct (Sample: [6.  2.9 4.5 1.5])\n",
      "1 -> 1 : Correct (Sample: [6.8 2.8 4.8 1.4])\n",
      "0 -> 0 : Correct (Sample: [5.4 3.4 1.5 0.4])\n",
      "1 -> 1 : Correct (Sample: [5.6 2.9 3.6 1.3])\n",
      "2 -> 2 : Correct (Sample: [6.9 3.1 5.1 2.3])\n",
      "1 -> 1 : Correct (Sample: [6.2 2.2 4.5 1.5])\n",
      "1 -> 1 : Correct (Sample: [5.8 2.7 3.9 1.2])\n",
      "2 -> 2 : Correct (Sample: [6.5 3.2 5.1 2. ])\n",
      "0 -> 0 : Correct (Sample: [4.8 3.  1.4 0.1])\n",
      "0 -> 0 : Correct (Sample: [5.5 3.5 1.3 0.2])\n",
      "0 -> 0 : Correct (Sample: [4.9 3.1 1.5 0.1])\n",
      "0 -> 0 : Correct (Sample: [5.1 3.8 1.5 0.3])\n",
      "1 -> 1 : Correct (Sample: [6.3 3.3 4.7 1.6])\n",
      "2 -> 2 : Correct (Sample: [6.5 3.  5.8 2.2])\n",
      "1 -> 1 : Correct (Sample: [5.6 2.5 3.9 1.1])\n",
      "1 -> 1 : Correct (Sample: [5.7 2.8 4.5 1.3])\n",
      "2 -> 2 : Correct (Sample: [6.4 2.8 5.6 2.2])\n",
      "0 -> 0 : Correct (Sample: [4.7 3.2 1.6 0.2])\n",
      "2 -> 2 : Correct (Sample: [6.1 3.  4.9 1.8])\n",
      "0 -> 0 : Correct (Sample: [5.  3.4 1.6 0.4])\n",
      "2 -> 2 : Correct (Sample: [6.4 2.8 5.6 2.1])\n",
      "2 -> 2 : Correct (Sample: [7.9 3.8 6.4 2. ])\n",
      "2 -> 2 : Correct (Sample: [6.7 3.  5.2 2.3])\n",
      "2 -> 2 : Correct (Sample: [6.7 2.5 5.8 1.8])\n",
      "2 -> 2 : Correct (Sample: [6.8 3.2 5.9 2.3])\n",
      "0 -> 0 : Correct (Sample: [4.8 3.  1.4 0.3])\n",
      "0 -> 0 : Correct (Sample: [4.8 3.1 1.6 0.2])\n",
      "0 -> 0 : Correct (Sample: [4.6 3.6 1.  0.2])\n",
      "0 -> 0 : Correct (Sample: [5.7 4.4 1.5 0.4])\n",
      "1 -> 1 : Correct (Sample: [6.7 3.1 4.4 1.4])\n",
      "0 -> 0 : Correct (Sample: [4.8 3.4 1.6 0.2])\n",
      "0 -> 0 : Correct (Sample: [4.4 3.2 1.3 0.2])\n",
      "2 -> 2 : Correct (Sample: [6.3 2.5 5.  1.9])\n",
      "1 -> 1 : Correct (Sample: [6.4 3.2 4.5 1.5])\n",
      "0 -> 0 : Correct (Sample: [5.2 3.5 1.5 0.2])\n",
      "0 -> 0 : Correct (Sample: [5.  3.6 1.4 0.2])\n",
      "0 -> 0 : Correct (Sample: [5.2 4.1 1.5 0.1])\n",
      "2 -> 2 : Correct (Sample: [5.8 2.7 5.1 1.9])\n",
      "1 -> 1 : Correct (Sample: [6.  3.4 4.5 1.6])\n",
      "1 -> 1 : Correct (Sample: [6.7 3.1 4.7 1.5])\n",
      "0 -> 0 : Correct (Sample: [5.4 3.9 1.3 0.4])\n",
      "0 -> 0 : Correct (Sample: [5.4 3.7 1.5 0.2])\n"
     ]
    }
   ],
   "source": [
    "print(\"\\nPredictions (Format: True Label -> Predicted Label):\\n\")\n",
    "for true_label, predicted_label, sample in zip(y_test, y_pred, X_test):\n",
    "    result = \"Correct\" if true_label == predicted_label else \"Wrong\"\n",
    "    print(f\"{true_label} -> {predicted_label} : {result} (Sample: {sample})\")"
   ]
  },
  {
   "cell_type": "markdown",
   "id": "cb9498dc-738e-4c1f-b9a5-27672a1f5d30",
   "metadata": {},
   "source": [
    "-----------------------------------"
   ]
  },
  {
   "cell_type": "markdown",
   "id": "c864514b-38a2-4530-9a16-1736c982bded",
   "metadata": {},
   "source": [
    "PRGM 9"
   ]
  },
  {
   "cell_type": "raw",
   "id": "0c89238f-a0e7-4e65-9457-3d4a2f27b2d0",
   "metadata": {},
   "source": [
    "Aim: Understand and analyse the concept of Regression algorithm techniques.\n",
    "\n",
    "Program: Implement the non-parametric Locally Weighted Regression algorithm in order \n",
    "to fit data points. Select appropriate data set for your experiment and draw graphs."
   ]
  },
  {
   "cell_type": "code",
   "execution_count": 58,
   "id": "0ca72ef0-ab8a-47e7-9142-4494ba9c1ea6",
   "metadata": {},
   "outputs": [
    {
     "name": "stderr",
     "output_type": "stream",
     "text": [
      "C:\\Users\\asus\\AppData\\Local\\Temp\\ipykernel_2080\\2784942908.py:16: DeprecationWarning: Conversion of an array with ndim > 0 to a scalar is deprecated, and will error in future. Ensure you extract a single element from your array before performing this operation. (Deprecated NumPy 1.25.)\n",
      "  y_pred[i] = x_query_b[i, :].dot(theta_best)\n"
     ]
    },
    {
     "data": {
      "image/png": "[encoded data removed]",
      "text/plain": [
       "<Figure size 640x480 with 1 Axes>"
      ]
     },
     "metadata": {},
     "output_type": "display_data"
    }
   ],
   "source": [
    "import numpy as np\n",
    "import matplotlib.pyplot as plt\n",
    "x = 2 * np.random.rand(100, 1)\n",
    "y = 4 + 3 * x + np.random.randn(100, 1)\n",
    "\n",
    "def locally_weighted_regression(x_query, x, y, tau):\n",
    "    m = x.shape[0]\n",
    "    x_b = np.c_[np.ones((m, 1)), x] \n",
    "    x_query_b = np.c_[np.ones((x_query.shape[0], 1)), x_query]\n",
    "    y_pred = np.zeros(x_query.shape[0])\n",
    "    \n",
    "    for i in range(x_query.shape[0]):\n",
    "        weights = np.exp(-np.sum((x_b - x_query_b[i, :])*2, axis=1) / (2 * tau*2))\n",
    "        W = np.diag(weights)\n",
    "        theta_best = np.linalg.inv(x_b.T.dot(W).dot(x_b)).dot(x_b.T).dot(W).dot(y)\n",
    "        y_pred[i] = x_query_b[i, :].dot(theta_best)\n",
    "    \n",
    "    return y_pred\n",
    "x_new = np.array([[0], [2]])\n",
    "tau = 0.5\n",
    "y_predict = locally_weighted_regression(x_new, x, y, tau)\n",
    "plt.plot(x_new, y_predict, 'r-', label=\"Predictions\")\n",
    "plt.plot(x, y, \"b.\", label=\"Data\")\n",
    "plt.xlabel(\"x\")\n",
    "plt.ylabel(\"y\")\n",
    "plt.legend()\n",
    "plt.show()"
   ]
  },
  {
   "cell_type": "markdown",
   "id": "65670d02-8cf5-4494-b903-7e0b75c32f8a",
   "metadata": {},
   "source": [
    "-------------"
   ]
  },
  {
   "cell_type": "markdown",
   "id": "71dd61a1-b79b-4507-a8b2-561837e5437d",
   "metadata": {},
   "source": [
    "PRGM 10"
   ]
  },
  {
   "cell_type": "raw",
   "id": "57643d54-649b-42f1-9cfa-5005c42071d1",
   "metadata": {},
   "source": [
    "Aim: Implement and demonstrate classification algorithm using Support vector machine \n",
    "Algorithm.\n",
    "\n",
    "Program: Implement and demonstrate the working of SVM algorithm for classification."
   ]
  },
  {
   "cell_type": "code",
   "execution_count": 62,
   "id": "70377359-8546-4c9f-a43a-90b9a8aa1eaf",
   "metadata": {},
   "outputs": [],
   "source": [
    "import numpy as np\n",
    "from sklearn import datasets\n",
    "from sklearn.pipeline import Pipeline\n",
    "from sklearn.preprocessing import StandardScaler\n",
    "from sklearn.svm import LinearSVC\n"
   ]
  },
  {
   "cell_type": "code",
   "execution_count": 64,
   "id": "e474beb4-c18a-40aa-95a8-e7f57b3d51f7",
   "metadata": {},
   "outputs": [
    {
     "name": "stdout",
     "output_type": "stream",
     "text": [
      "[1.]\n"
     ]
    },
    {
     "name": "stderr",
     "output_type": "stream",
     "text": [
      "C:\\Users\\asus\\anaconda3\\Lib\\site-packages\\sklearn\\svm\\_classes.py:31: FutureWarning: The default value of `dual` will change from `True` to `'auto'` in 1.5. Set the value of `dual` explicitly to suppress the warning.\n",
      "  warnings.warn(\n"
     ]
    }
   ],
   "source": [
    "iris = datasets.load_iris()\n",
    "x = iris['data'][:,(2, 3)]\n",
    "y = (iris['target'] == 2).astype(np.float64)\n",
    "svm_clf = Pipeline([\n",
    "    (\"scaler\", StandardScaler()),\n",
    "    (\"linear_svc\", LinearSVC(C=1, loss=\"hinge\")),\n",
    "])\n",
    "svm_clf.fit(x, y)\n",
    "print(svm_clf.predict([[5.5,1.7]]))"
   ]
  },
  {
   "cell_type": "markdown",
   "id": "cc9493b5-1c92-43f6-8078-e8edb2d978b6",
   "metadata": {},
   "source": [
    "---------"
   ]
  },
  {
   "cell_type": "code",
   "execution_count": null,
   "id": "81752f4c-ff2e-43e6-a222-860bab6510ea",
   "metadata": {},
   "outputs": [],
   "source": []
  }
 ],
 "metadata": {
  "kernelspec": {
   "display_name": "Python 3 (ipykernel)",
   "language": "python",
   "name": "python3"
  },
  "language_info": {
   "codemirror_mode": {
    "name": "ipython",
    "version": 3
   },
   "file_extension": ".py",
   "mimetype": "text/x-python",
   "name": "python",
   "nbconvert_exporter": "python",
   "pygments_lexer": "ipython3",
   "version": "3.11.5"
  }
 },
 "nbformat": 4,
 "nbformat_minor": 5
}
